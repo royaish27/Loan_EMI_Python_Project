{
 "cells": [
  {
   "cell_type": "markdown",
   "id": "1572f585",
   "metadata": {},
   "source": [
    "<h1><center><font size = '6'>Python Project : Loan EMI Calculator</fornt size = '6'></center></h1>"
   ]
  },
  {
   "cell_type": "code",
   "execution_count": 3,
   "id": "39bbb56b",
   "metadata": {},
   "outputs": [],
   "source": [
    "import pandas as pd\n",
    "import numpy as np"
   ]
  },
  {
   "cell_type": "markdown",
   "id": "fa4cd09e",
   "metadata": {},
   "source": [
    "### 1.    Let’s calculate the Home Loan EMI now using Python code. Principal Amount 50Lakhs, Rate of interest 8%, and Loan repayment tenure is 15 years. Find the EMI to be paid?"
   ]
  },
  {
   "cell_type": "code",
   "execution_count": 16,
   "id": "12466633",
   "metadata": {},
   "outputs": [
    {
     "name": "stdout",
     "output_type": "stream",
     "text": [
      "Enter The Principal Amount: 5000000\n",
      "Enter The Interest Rate: 8\n",
      "Enter The No. of Years: 15\n",
      "The Calculated Monthly EMI is:  47782.6\n"
     ]
    }
   ],
   "source": [
    "p = float(input(\"Enter The Principal Amount: \"))\n",
    "r = float(input(\"Enter The Interest Rate: \"))\n",
    "n = int(input(\"Enter The No. of Years: \"))\n",
    "\n",
    "# Now let's calculate the monthly interest rate.\n",
    "irm = r/(12*100)\n",
    "\n",
    "# Now let's convert years into months.\n",
    "nmy = n*12\n",
    "\n",
    "# Now the monthly EMI is;\n",
    "emi = (p*irm*(1+irm)**nmy)/(((1+irm)**nmy) - 1)\n",
    "\n",
    "print(\"The Calculated Monthly EMI is: \", round(emi,2))"
   ]
  },
  {
   "cell_type": "markdown",
   "id": "adb82d40",
   "metadata": {},
   "source": [
    "### 2.    If the interest rate increases to 10%, and you cannot pay more than 30,000 as EMI, find the maximum amount of Loan you can take/afford for the same period?"
   ]
  },
  {
   "cell_type": "code",
   "execution_count": 17,
   "id": "415fb3ff",
   "metadata": {},
   "outputs": [
    {
     "name": "stdout",
     "output_type": "stream",
     "text": [
      "Enter The EMI You Can Pay: 30000\n",
      "Enter The Interest Rate: 10\n",
      "Enter The No. of Years: 15\n",
      "The Maximum Amount of Loan The Person Can Get:  2791723.16\n"
     ]
    }
   ],
   "source": [
    "emi = float(input(\"Enter The EMI You Can Pay: \"))\n",
    "r = float(input(\"Enter The Interest Rate: \"))\n",
    "n = int(input(\"Enter The No. of Years: \"))\n",
    "\n",
    "# Now let's calculate the monthly interest rate.\n",
    "irm = r/(12*100)\n",
    "\n",
    "# Now let's convert years into months.\n",
    "nmy = n*12\n",
    "\n",
    "# Now the monthly EMI is;\n",
    "p = (emi * (((1+irm)**nmy) - 1)) / (irm*(1+irm)**nmy)\n",
    "\n",
    "print(\"The Maximum Amount of Loan The Person Can Get: \", round(p,2))"
   ]
  },
  {
   "cell_type": "markdown",
   "id": "20757485",
   "metadata": {},
   "source": [
    "### 3.    For the Que 1. what is the total interest paid by you year-wise (from the 1st year to the 15th year). Also, what is the total cumulative interest paid by you in 15 years?"
   ]
  },
  {
   "cell_type": "code",
   "execution_count": 5,
   "id": "46725de5",
   "metadata": {},
   "outputs": [
    {
     "name": "stdout",
     "output_type": "stream",
     "text": [
      "Collecting numpy_financial\n",
      "  Downloading numpy_financial-1.0.0-py3-none-any.whl (14 kB)\n",
      "Requirement already satisfied: numpy>=1.15 in /Users/roy_aish/anaconda3/lib/python3.11/site-packages (from numpy_financial) (1.24.3)\n",
      "Installing collected packages: numpy_financial\n",
      "Successfully installed numpy_financial-1.0.0\n"
     ]
    }
   ],
   "source": [
    "!pip install numpy_financial"
   ]
  },
  {
   "cell_type": "code",
   "execution_count": 1,
   "id": "a92af941",
   "metadata": {},
   "outputs": [
    {
     "data": {
      "text/plain": [
       "'1.0.0'"
      ]
     },
     "execution_count": 1,
     "metadata": {},
     "output_type": "execute_result"
    }
   ],
   "source": [
    "# Importing numpy financial functions\n",
    "import numpy_financial as npf\n",
    "npf.__version__"
   ]
  },
  {
   "cell_type": "code",
   "execution_count": 7,
   "id": "00d1b87e",
   "metadata": {
    "scrolled": true
   },
   "outputs": [
    {
     "data": {
      "text/plain": [
       "['fv', 'ipmt', 'irr', 'mirr', 'nper', 'npv', 'pmt', 'ppmt', 'pv', 'rate']"
      ]
     },
     "execution_count": 7,
     "metadata": {},
     "output_type": "execute_result"
    }
   ],
   "source": [
    "# Checking the numpy financial functions\n",
    "[function for function in dir(npf) if not function.startswith('_')]"
   ]
  },
  {
   "cell_type": "markdown",
   "id": "dda31b24",
   "metadata": {},
   "source": [
    "#### Part - 1"
   ]
  },
  {
   "cell_type": "code",
   "execution_count": 52,
   "id": "d9b6756b",
   "metadata": {},
   "outputs": [
    {
     "name": "stdout",
     "output_type": "stream",
     "text": [
      "Enter The Principal Amount: 5000000\n",
      "Enter The Interest Rate: 8\n",
      "Enter The No. of Years: 15\n",
      "<class 'list'>\n"
     ]
    },
    {
     "data": {
      "text/html": [
       "<div>\n",
       "<style scoped>\n",
       "    .dataframe tbody tr th:only-of-type {\n",
       "        vertical-align: middle;\n",
       "    }\n",
       "\n",
       "    .dataframe tbody tr th {\n",
       "        vertical-align: top;\n",
       "    }\n",
       "\n",
       "    .dataframe thead th {\n",
       "        text-align: right;\n",
       "    }\n",
       "</style>\n",
       "<table border=\"1\" class=\"dataframe\">\n",
       "  <thead>\n",
       "    <tr style=\"text-align: right;\">\n",
       "      <th></th>\n",
       "      <th>Year</th>\n",
       "      <th>Yearly Total Installment Amount</th>\n",
       "    </tr>\n",
       "  </thead>\n",
       "  <tbody>\n",
       "    <tr>\n",
       "      <th>0</th>\n",
       "      <td>1</td>\n",
       "      <td>400000.00</td>\n",
       "    </tr>\n",
       "    <tr>\n",
       "      <th>1</th>\n",
       "      <td>2</td>\n",
       "      <td>385268.18</td>\n",
       "    </tr>\n",
       "    <tr>\n",
       "      <th>2</th>\n",
       "      <td>3</td>\n",
       "      <td>369357.82</td>\n",
       "    </tr>\n",
       "    <tr>\n",
       "      <th>3</th>\n",
       "      <td>4</td>\n",
       "      <td>352174.63</td>\n",
       "    </tr>\n",
       "    <tr>\n",
       "      <th>4</th>\n",
       "      <td>5</td>\n",
       "      <td>333616.78</td>\n",
       "    </tr>\n",
       "    <tr>\n",
       "      <th>5</th>\n",
       "      <td>6</td>\n",
       "      <td>313574.30</td>\n",
       "    </tr>\n",
       "    <tr>\n",
       "      <th>6</th>\n",
       "      <td>7</td>\n",
       "      <td>291928.43</td>\n",
       "    </tr>\n",
       "    <tr>\n",
       "      <th>7</th>\n",
       "      <td>8</td>\n",
       "      <td>268550.89</td>\n",
       "    </tr>\n",
       "    <tr>\n",
       "      <th>8</th>\n",
       "      <td>9</td>\n",
       "      <td>243303.14</td>\n",
       "    </tr>\n",
       "    <tr>\n",
       "      <th>9</th>\n",
       "      <td>10</td>\n",
       "      <td>216035.57</td>\n",
       "    </tr>\n",
       "    <tr>\n",
       "      <th>10</th>\n",
       "      <td>11</td>\n",
       "      <td>186586.60</td>\n",
       "    </tr>\n",
       "    <tr>\n",
       "      <th>11</th>\n",
       "      <td>12</td>\n",
       "      <td>154781.71</td>\n",
       "    </tr>\n",
       "    <tr>\n",
       "      <th>12</th>\n",
       "      <td>13</td>\n",
       "      <td>120432.43</td>\n",
       "    </tr>\n",
       "    <tr>\n",
       "      <th>13</th>\n",
       "      <td>14</td>\n",
       "      <td>83335.20</td>\n",
       "    </tr>\n",
       "    <tr>\n",
       "      <th>14</th>\n",
       "      <td>15</td>\n",
       "      <td>43270.20</td>\n",
       "    </tr>\n",
       "  </tbody>\n",
       "</table>\n",
       "</div>"
      ],
      "text/plain": [
       "    Year Yearly Total Installment Amount\n",
       "0      1                       400000.00\n",
       "1      2                       385268.18\n",
       "2      3                       369357.82\n",
       "3      4                       352174.63\n",
       "4      5                       333616.78\n",
       "5      6                       313574.30\n",
       "6      7                       291928.43\n",
       "7      8                       268550.89\n",
       "8      9                       243303.14\n",
       "9     10                       216035.57\n",
       "10    11                       186586.60\n",
       "11    12                       154781.71\n",
       "12    13                       120432.43\n",
       "13    14                        83335.20\n",
       "14    15                        43270.20"
      ]
     },
     "execution_count": 52,
     "metadata": {},
     "output_type": "execute_result"
    }
   ],
   "source": [
    "# For the Que 1. what is the total interest paid by you year-wise (from the 1st year to the 15th year).\n",
    "\n",
    "p = float(input(\"Enter The Principal Amount: \"))\n",
    "r = float(input(\"Enter The Interest Rate: \"))\n",
    "n = int(input(\"Enter The No. of Years: \"))\n",
    "\n",
    "# Total yearly int of 15 years\n",
    "\n",
    "t1 = [i for i in range(1,n+1,1)]\n",
    "\n",
    "l1 = []\n",
    "\n",
    "for i in t1:\n",
    "    x = npf.ipmt((r/100),i,n,p*(-1))\n",
    "    l1.append(x)\n",
    "    \n",
    "print(type(l1))\n",
    "\n",
    "yr_emi = pd.DataFrame({'Year':[i for i in range(1,16,1)],'Yearly Total Installment Amount': l1})\n",
    "yr_emi['Yearly Total Installment Amount'] = yr_emi['Yearly Total Installment Amount'].apply(lambda x: '{:.2f}'.format(x))\n",
    "yr_emi.head(15)"
   ]
  },
  {
   "cell_type": "markdown",
   "id": "a271736f",
   "metadata": {},
   "source": [
    "#### Part - 2"
   ]
  },
  {
   "cell_type": "code",
   "execution_count": 12,
   "id": "e1a6a258",
   "metadata": {},
   "outputs": [
    {
     "name": "stdout",
     "output_type": "stream",
     "text": [
      "Enter The Principal Amount: 5000000\n",
      "Enter The Interest Rate: 8\n",
      "Enter The No. of Years: 15\n",
      "<class 'list'>\n",
      "Hence, The Total Amount of Cumulative Interest of 15 Years Is: 3600868.76\n"
     ]
    },
    {
     "data": {
      "text/plain": [
       "0      33333.333333333336\n",
       "1            66570.338194\n",
       "2            99710.372393\n",
       "3           132752.789457\n",
       "4           165696.938608\n",
       "              ...        \n",
       "175        3597725.235161\n",
       "176        3598978.481115\n",
       "177        3599921.531347\n",
       "178        3600552.317886\n",
       "179        3600868.758973\n",
       "Name: Monthly_Int, Length: 180, dtype: object"
      ]
     },
     "execution_count": 12,
     "metadata": {},
     "output_type": "execute_result"
    }
   ],
   "source": [
    "# The total cumulative interest paid in 15 years?\n",
    "\n",
    "p = float(input(\"Enter The Principal Amount: \"))\n",
    "r = float(input(\"Enter The Interest Rate: \"))\n",
    "n = int(input(\"Enter The No. of Years: \"))\n",
    "\n",
    "t2 = [i for i in range(1,(n*12)+1,1)]\n",
    "\n",
    "l2 = []\n",
    "\n",
    "for i in t2:\n",
    "    y = npf.ipmt((r/1200),i,(n*12),p*(-1)) \n",
    "    l2.append(y)\n",
    "    \n",
    "print(type(l2))  \n",
    "\n",
    "print(\"Hence, The Total Amount of Cumulative Interest of 15 Years Is: %0.2f\"%np.array(l2).sum())\n",
    "emi_tab = (pd.DataFrame({'Year':[i for i in range(1,(n*12)+1,1)],'Monthly_Int':l2}))\n",
    "emi_tab.head()\n",
    "np.cumsum(emi_tab['Monthly_Int'])"
   ]
  },
  {
   "cell_type": "markdown",
   "id": "52dc334c",
   "metadata": {},
   "source": [
    "### 4.    For the Que 1., in how many months would you have paid atleast 50% of the Principal amount."
   ]
  },
  {
   "cell_type": "code",
   "execution_count": 4,
   "id": "49a5e416",
   "metadata": {},
   "outputs": [
    {
     "name": "stdout",
     "output_type": "stream",
     "text": [
      "Enter The Principal Amount: 5000000\n",
      "Enter The Interest Rate: 8\n",
      "Enter The No. of Years To Pay Back The Entire Loan Amount: 15\n",
      "Paid Percentage Share (numerics only): 0.5\n",
      "Monthly EMI amount:  47782.6\n",
      "[0, 1, 2, 3, 4, 5, 6, 7, 8, 9, 10, 11, 12, 13, 14, 15, 16, 17, 18, 19, 20, 21, 22, 23, 24, 25, 26, 27, 28, 29, 30, 31, 32, 33, 34, 35, 36, 37, 38, 39, 40, 41, 42, 43, 44, 45, 46, 47, 48, 49, 50, 51, 52, 53, 54, 55, 56, 57, 58, 59, 60, 61, 62, 63, 64, 65, 66, 67, 68, 69, 70, 71, 72, 73, 74, 75, 76, 77, 78, 79, 80, 81, 82, 83, 84, 85, 86, 87, 88, 89, 90, 91, 92, 93, 94, 95, 96, 97, 98, 99, 100, 101, 102, 103, 104, 105, 106, 107, 108, 109, 110, 111, 112, 113, 114]\n",
      "So,the time it would take to repay 50% of the principle is:  115 months. And in 115 months, the repaid amount of the principal amount will be : 2517258.07\n"
     ]
    }
   ],
   "source": [
    "p = float(input(\"Enter The Principal Amount: \"))\n",
    "r = float(input(\"Enter The Interest Rate: \"))\n",
    "n = int(input(\"Enter The No. of Years To Pay Back The Entire Loan Amount: \"))\n",
    "paid = float(input(\"Paid Percentage Share (numerics only): \")) #In this case it is 50% of the principal amount\n",
    "\n",
    "# Calculating the monthly interest rate...\n",
    "r = r/(12*100)\n",
    "\n",
    "# Converting the tenure into months...\n",
    "n = n*12\n",
    "\n",
    "# Checking the monthly emi using the emi formula...\n",
    "emi = npf.pmt(r,n,p*(-1))\n",
    "print(\"Monthly EMI amount: \",round(emi,2))\n",
    "\n",
    "# Breaking the monthly amortization details...\n",
    "l1 = []\n",
    "l2 = []\n",
    "for i in range(1,n+1,1):\n",
    "    y = float(npf.ipmt(r,i,n,p*(-1)))\n",
    "    z = float(npf.ppmt(r,i,n,p*(-1)))\n",
    "    l1.append(y)\n",
    "    l2.append(z)\n",
    "\n",
    "# creating the dataframe of amortization...    \n",
    "dt = pd.DataFrame({'Months':[i for i in range(1,n+1)],'IPMT':l1,'PPMT':l2})\n",
    "dt['IPMT'] = dt['IPMT'].apply(lambda x: '{:.2f}'.format(x)).astype(float)\n",
    "dt['PPMT'] = dt['PPMT'].apply(lambda x: '{:.2f}'.format(x)).astype(float)\n",
    "dt['EMI'] = dt['IPMT'] + dt['PPMT']\n",
    "\n",
    "# Calculating the cumulative sum of the monthly-EMIs...\n",
    "c_emi = np.cumsum(dt['PPMT']).tolist()\n",
    "\n",
    "### Finally the time it would take to repay 50% of the principle amount...\n",
    "a = []\n",
    "\n",
    "for j,k in enumerate(c_emi):\n",
    "    if k <= p * paid:\n",
    "        a.append(j)\n",
    "print(a)\n",
    "print(\"So,the time it would take to repay 50% of the principle is: \",\n",
    "      len(a),\"months. And in\",len(a),\n",
    "      \"months, the repaid amount of the principal amount will be :\",\n",
    "      round(c_emi[len(a)],2))"
   ]
  },
  {
   "cell_type": "code",
   "execution_count": 5,
   "id": "fa94d016",
   "metadata": {},
   "outputs": [
    {
     "data": {
      "text/html": [
       "<div>\n",
       "<style scoped>\n",
       "    .dataframe tbody tr th:only-of-type {\n",
       "        vertical-align: middle;\n",
       "    }\n",
       "\n",
       "    .dataframe tbody tr th {\n",
       "        vertical-align: top;\n",
       "    }\n",
       "\n",
       "    .dataframe thead th {\n",
       "        text-align: right;\n",
       "    }\n",
       "</style>\n",
       "<table border=\"1\" class=\"dataframe\">\n",
       "  <thead>\n",
       "    <tr style=\"text-align: right;\">\n",
       "      <th></th>\n",
       "      <th>Months</th>\n",
       "      <th>PPMT</th>\n",
       "      <th>IPMT</th>\n",
       "      <th>EMI</th>\n",
       "      <th>Cumulative_PPMT</th>\n",
       "      <th>Cumulative_IPMT</th>\n",
       "      <th>Cumulative_EMI</th>\n",
       "    </tr>\n",
       "  </thead>\n",
       "  <tbody>\n",
       "    <tr>\n",
       "      <th>0</th>\n",
       "      <td>1</td>\n",
       "      <td>14449.27</td>\n",
       "      <td>33333.33</td>\n",
       "      <td>47782.60</td>\n",
       "      <td>14449.27</td>\n",
       "      <td>33333.33</td>\n",
       "      <td>47782.60</td>\n",
       "    </tr>\n",
       "    <tr>\n",
       "      <th>1</th>\n",
       "      <td>2</td>\n",
       "      <td>14545.60</td>\n",
       "      <td>33237.00</td>\n",
       "      <td>47782.60</td>\n",
       "      <td>28994.87</td>\n",
       "      <td>66570.33</td>\n",
       "      <td>95565.20</td>\n",
       "    </tr>\n",
       "    <tr>\n",
       "      <th>2</th>\n",
       "      <td>3</td>\n",
       "      <td>14642.57</td>\n",
       "      <td>33140.03</td>\n",
       "      <td>47782.60</td>\n",
       "      <td>43637.44</td>\n",
       "      <td>99710.36</td>\n",
       "      <td>143347.80</td>\n",
       "    </tr>\n",
       "    <tr>\n",
       "      <th>3</th>\n",
       "      <td>4</td>\n",
       "      <td>14740.19</td>\n",
       "      <td>33042.42</td>\n",
       "      <td>47782.61</td>\n",
       "      <td>58377.63</td>\n",
       "      <td>132752.78</td>\n",
       "      <td>191130.41</td>\n",
       "    </tr>\n",
       "    <tr>\n",
       "      <th>4</th>\n",
       "      <td>5</td>\n",
       "      <td>14838.46</td>\n",
       "      <td>32944.15</td>\n",
       "      <td>47782.61</td>\n",
       "      <td>73216.09</td>\n",
       "      <td>165696.93</td>\n",
       "      <td>238913.02</td>\n",
       "    </tr>\n",
       "    <tr>\n",
       "      <th>5</th>\n",
       "      <td>6</td>\n",
       "      <td>14937.38</td>\n",
       "      <td>32845.23</td>\n",
       "      <td>47782.61</td>\n",
       "      <td>88153.47</td>\n",
       "      <td>198542.16</td>\n",
       "      <td>286695.63</td>\n",
       "    </tr>\n",
       "    <tr>\n",
       "      <th>6</th>\n",
       "      <td>7</td>\n",
       "      <td>15036.96</td>\n",
       "      <td>32745.64</td>\n",
       "      <td>47782.60</td>\n",
       "      <td>103190.43</td>\n",
       "      <td>231287.80</td>\n",
       "      <td>334478.23</td>\n",
       "    </tr>\n",
       "    <tr>\n",
       "      <th>7</th>\n",
       "      <td>8</td>\n",
       "      <td>15137.21</td>\n",
       "      <td>32645.40</td>\n",
       "      <td>47782.61</td>\n",
       "      <td>118327.64</td>\n",
       "      <td>263933.20</td>\n",
       "      <td>382260.84</td>\n",
       "    </tr>\n",
       "    <tr>\n",
       "      <th>8</th>\n",
       "      <td>9</td>\n",
       "      <td>15238.12</td>\n",
       "      <td>32544.48</td>\n",
       "      <td>47782.60</td>\n",
       "      <td>133565.76</td>\n",
       "      <td>296477.68</td>\n",
       "      <td>430043.44</td>\n",
       "    </tr>\n",
       "    <tr>\n",
       "      <th>9</th>\n",
       "      <td>10</td>\n",
       "      <td>15339.71</td>\n",
       "      <td>32442.90</td>\n",
       "      <td>47782.61</td>\n",
       "      <td>148905.47</td>\n",
       "      <td>328920.58</td>\n",
       "      <td>477826.05</td>\n",
       "    </tr>\n",
       "  </tbody>\n",
       "</table>\n",
       "</div>"
      ],
      "text/plain": [
       "   Months      PPMT      IPMT       EMI  Cumulative_PPMT  Cumulative_IPMT  \\\n",
       "0       1  14449.27  33333.33  47782.60         14449.27         33333.33   \n",
       "1       2  14545.60  33237.00  47782.60         28994.87         66570.33   \n",
       "2       3  14642.57  33140.03  47782.60         43637.44         99710.36   \n",
       "3       4  14740.19  33042.42  47782.61         58377.63        132752.78   \n",
       "4       5  14838.46  32944.15  47782.61         73216.09        165696.93   \n",
       "5       6  14937.38  32845.23  47782.61         88153.47        198542.16   \n",
       "6       7  15036.96  32745.64  47782.60        103190.43        231287.80   \n",
       "7       8  15137.21  32645.40  47782.61        118327.64        263933.20   \n",
       "8       9  15238.12  32544.48  47782.60        133565.76        296477.68   \n",
       "9      10  15339.71  32442.90  47782.61        148905.47        328920.58   \n",
       "\n",
       "   Cumulative_EMI  \n",
       "0        47782.60  \n",
       "1        95565.20  \n",
       "2       143347.80  \n",
       "3       191130.41  \n",
       "4       238913.02  \n",
       "5       286695.63  \n",
       "6       334478.23  \n",
       "7       382260.84  \n",
       "8       430043.44  \n",
       "9       477826.05  "
      ]
     },
     "execution_count": 5,
     "metadata": {},
     "output_type": "execute_result"
    }
   ],
   "source": [
    "# Full amortization of the loan...\n",
    "dt['Cumulative_PPMT'] = np.cumsum(dt['PPMT'])\n",
    "dt['Cumulative_IPMT'] = np.cumsum(dt['IPMT'])\n",
    "dt['Cumulative_EMI'] = np.cumsum(dt['EMI'])\n",
    "\n",
    "# sorting the col_names...\n",
    "dt = dt[['Months','PPMT','IPMT','EMI','Cumulative_PPMT','Cumulative_IPMT','Cumulative_EMI']]\n",
    "dt.head(10)"
   ]
  },
  {
   "cell_type": "code",
   "execution_count": null,
   "id": "a8b7402e",
   "metadata": {},
   "outputs": [],
   "source": [
    "dt.to_csv('/Users/roy_aish/Desktop/git')"
   ]
  },
  {
   "cell_type": "markdown",
   "id": "64cd8ee2",
   "metadata": {},
   "source": [
    "<h1><center><font size = '5'>Monthly EMI Visuals</font size = '5'></center></h1>"
   ]
  },
  {
   "cell_type": "code",
   "execution_count": 43,
   "id": "e77c8581",
   "metadata": {},
   "outputs": [],
   "source": [
    "import matplotlib.pyplot as plt"
   ]
  },
  {
   "cell_type": "code",
   "execution_count": 44,
   "id": "d0fc75c3",
   "metadata": {},
   "outputs": [
    {
     "data": {
      "image/png": "[encoded data removed]",
      "text/plain": [
       "<Figure size 640x480 with 2 Axes>"
      ]
     },
     "metadata": {},
     "output_type": "display_data"
    }
   ],
   "source": [
    "# Dual-Axis Plot of PPMT & IPMT...\n",
    "\n",
    "# Extracting values for axes...\n",
    "x = range(len(dt))\n",
    "y1 = dt['PPMT']\n",
    "y2 = dt['IPMT']\n",
    "\n",
    "# First axis...\n",
    "fig, ax1 = plt.subplots()\n",
    "\n",
    "# PPMT plot\n",
    "ax1.plot(x, y1, label='PPMT', color='r')\n",
    "\n",
    "# Labels...\n",
    "ax1.set_xlabel('Months')\n",
    "ax1.set_ylabel('PPMT Part of EMI', color='r')\n",
    "ax1.set_title('Dual-Axis Chart of PPMT and IPMT')\n",
    "\n",
    "# Second axis\n",
    "ax2 = ax1.twinx()\n",
    "\n",
    "# IPMT plot\n",
    "ax2.plot(x, y2, label='IPMT', color='g')\n",
    "\n",
    "# Labels...\n",
    "ax2.set_ylabel('IPMT Part of EMI', color='g')\n",
    "\n",
    "# Setting the legend\n",
    "ax1.legend(loc='upper center')\n",
    "ax2.legend(loc='lower center')\n",
    "\n",
    "plt.grid()\n",
    "plt.show()"
   ]
  },
  {
   "cell_type": "markdown",
   "id": "2df8722b",
   "metadata": {},
   "source": [
    "Aisharya Roy | [LinkedIn](https://www.linkedin.com/in/aisharya-roy-98a30721a/) | [GitHub](https://github.com/royaish27) | Python Project Hosted By Analytics Vidhya"
   ]
  },
  {
   "cell_type": "markdown",
   "id": "fce369ee",
   "metadata": {},
   "source": [
    "--- END"
   ]
  }
 ],
 "metadata": {
  "kernelspec": {
   "display_name": "Python 3 (ipykernel)",
   "language": "python",
   "name": "python3"
  },
  "language_info": {
   "codemirror_mode": {
    "name": "ipython",
    "version": 3
   },
   "file_extension": ".py",
   "mimetype": "text/x-python",
   "name": "python",
   "nbconvert_exporter": "python",
   "pygments_lexer": "ipython3",
   "version": "3.11.4"
  }
 },
 "nbformat": 4,
 "nbformat_minor": 5
}
